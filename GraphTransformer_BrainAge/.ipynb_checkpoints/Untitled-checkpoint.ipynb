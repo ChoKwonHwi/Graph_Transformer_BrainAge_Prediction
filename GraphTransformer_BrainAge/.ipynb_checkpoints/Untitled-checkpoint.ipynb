{
 "cells": [
  {
   "cell_type": "code",
   "execution_count": 2,
   "id": "66f24fa0-d584-4c27-b1d5-1216809a60c9",
   "metadata": {},
   "outputs": [],
   "source": [
    "import os\n",
    "import pandas as pd\n",
    "import nibabel as nib\n",
    "import numpy as np"
   ]
  },
  {
   "cell_type": "code",
   "execution_count": 57,
   "id": "a4ff1c39-88c3-40ee-8cf0-987735b36123",
   "metadata": {},
   "outputs": [],
   "source": [
    "data_2_path = '/nasdata4/CNAlab_data/BDSP/ADNI/2/ADNI/IMAGE/BRAIN/DATA/derivative/metadata/lists/ADNI2_all_image_viscode_applied_demo.csv'\n",
    "data_3_path = '/nasdata4/CNAlab_data/BDSP/ADNI/3/ADNI/IMAGE/BRAIN/DATA/derivative/metadata/lists/ADNI3_exclude_NAN_DX_with_viscode_applied_demo.csv '\n",
    "data_GO_path = '/nasdata4/CNAlab_data/BDSP/ADNI/GO/ADNI/IMAGE/BRAIN/DATA/derivative/metadata/lists/ADNIGO_exclude_NAN_DX_with_viscode_applied_demo.csv'"
   ]
  },
  {
   "cell_type": "code",
   "execution_count": 58,
   "id": "a4d751c3-cd3d-4f65-93a0-9a16bc36589f",
   "metadata": {},
   "outputs": [],
   "source": [
    "NC_age_path = '/nasdata4/kwonhwi/GraphTransformer/data/NC_age.csv'\n",
    "AD_age_path = '/nasdata4/kwonhwi/GraphTransformer/data/AD_age.csv'\n",
    "MCI_age_path = '/nasdata4/kwonhwi/GraphTransformer/data/MCI_age.csv'\n",
    "\n",
    "NC_list = '/nasdata4/kwonhwi/GraphTransformer/data/NC_list.txt'\n",
    "AD_list = '/nasdata4/kwonhwi/GraphTransformer/data/AD_list.txt'\n",
    "MCI_list = '/nasdata4/kwonhwi/GraphTransformer/data/MCI_list.txt'"
   ]
  },
  {
   "cell_type": "code",
   "execution_count": 32,
   "id": "8f04f230-058c-454a-b1b9-c98d19cc1698",
   "metadata": {},
   "outputs": [
    {
     "name": "stderr",
     "output_type": "stream",
     "text": [
      "/tmp/ipykernel_3926604/949221532.py:1: FutureWarning: The 'delim_whitespace' keyword in pd.read_csv is deprecated and will be removed in a future version. Use ``sep='\\s+'`` instead\n",
      "  df = pd.read_csv(data_path, delim_whitespace=True)\n"
     ]
    }
   ],
   "source": [
    "df = pd.read_csv(data_2_path, delim_whitespace=True)\n",
    "\n",
    "df['AGE'] = pd.to_numeric(df['AGE'], errors='coerce')  # 숫자가 아닌 값은 NaN으로 변환\n",
    "df_cleaned = df.dropna(subset=['AGE'])  # NaN이 있는 행 제거\n",
    "\n",
    "# 결과 출력\n",
    "print(df_cleaned[['ID', 'AGE']])\n",
    "\n",
    "with open('/nasdata4/kwonhwi/GraphTransformer/data/NC_list.txt', 'r') as f:\n",
    "    file_list = f.read().splitlines()"
   ]
  },
  {
   "cell_type": "code",
   "execution_count": 35,
   "id": "de7cc6a0-a1d3-4366-845b-6d5e749270cc",
   "metadata": {},
   "outputs": [],
   "source": [
    "sub_dirs = [d for d in os.listdir(NC_path) if os.path.isdir(os.path.join(NC_path, d))]"
   ]
  },
  {
   "cell_type": "code",
   "execution_count": 53,
   "id": "c62e515c-9157-4e90-b10f-f254ebf6a22d",
   "metadata": {},
   "outputs": [],
   "source": [
    "with open('/nasdata4/kwonhwi/GraphTransformer/data/NC_list.txt', 'r') as f:\n",
    "    file_list = f.read().splitlines()"
   ]
  },
  {
   "cell_type": "code",
   "execution_count": 54,
   "id": "307e0ae2-4e1d-405a-b215-38c5dd8f2fae",
   "metadata": {},
   "outputs": [],
   "source": [
    "matched_items = []\n",
    "for item in file_list:\n",
    "    id_part = item[-10:]  # \"sub-\" 이후 부분 추출\n",
    "    if id_part in df_cleaned['ID'].values:  # df['ID']와 비교\n",
    "        age = df.loc[df['ID'] == id_part, 'AGE'].values[0]  # 해당 ID의 AGE 값\n",
    "        matched_items.append((item, age))  # 일치 항목 저장\n",
    "\n",
    "# 4. 결과 저장"
   ]
  },
  {
   "cell_type": "code",
   "execution_count": 55,
   "id": "3f3d39a5-f562-4137-b476-7234b9a8cd6a",
   "metadata": {},
   "outputs": [
    {
     "name": "stdout",
     "output_type": "stream",
     "text": [
      "                           id   AGE\n",
      "0    sub-2100322004098_S_4506  71.5\n",
      "1    sub-2100322004094_S_4503  71.7\n",
      "2    sub-2100322004007_S_4488  72.6\n",
      "3    sub-2100322004007_S_4516  71.4\n",
      "4    sub-2100322004016_S_4688  81.7\n",
      "..                        ...   ...\n",
      "112  sub-2100332004128_S_0272  76.4\n",
      "113  sub-2100332004126_S_0680  87.8\n",
      "114  sub-2100332004116_S_0382  80.5\n",
      "115  sub-2100332004100_S_0069  78.9\n",
      "116  sub-2100332004126_S_0605  81.6\n",
      "\n",
      "[117 rows x 2 columns]\n"
     ]
    }
   ],
   "source": [
    "matched_df = pd.DataFrame(matched_items, columns=['id', 'AGE'])\n",
    "matched_df.to_csv(NC_age_path, index=False)  # 결과 CSV 저장\n",
    "\n",
    "print(matched_df)"
   ]
  },
  {
   "cell_type": "code",
   "execution_count": null,
   "id": "c404f627-7dac-4d17-a6ea-3999d19ee183",
   "metadata": {},
   "outputs": [],
   "source": []
  }
 ],
 "metadata": {
  "kernelspec": {
   "display_name": "kwon",
   "language": "python",
   "name": "kwon"
  },
  "language_info": {
   "codemirror_mode": {
    "name": "ipython",
    "version": 3
   },
   "file_extension": ".py",
   "mimetype": "text/x-python",
   "name": "python",
   "nbconvert_exporter": "python",
   "pygments_lexer": "ipython3",
   "version": "3.10.12"
  }
 },
 "nbformat": 4,
 "nbformat_minor": 5
}
